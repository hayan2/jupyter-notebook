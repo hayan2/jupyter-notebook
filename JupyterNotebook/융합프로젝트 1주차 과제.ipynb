{
 "cells": [
  {
   "cell_type": "code",
   "execution_count": 214,
   "id": "6caa2596",
   "metadata": {},
   "outputs": [
    {
     "name": "stdout",
     "output_type": "stream",
     "text": [
      "Requirement already satisfied: pandas in c:\\users\\hayan2\\anaconda3\\lib\\site-packages (1.5.3)\n",
      "Requirement already satisfied: python-dateutil>=2.8.1 in c:\\users\\hayan2\\anaconda3\\lib\\site-packages (from pandas) (2.8.2)\n",
      "Requirement already satisfied: pytz>=2020.1 in c:\\users\\hayan2\\anaconda3\\lib\\site-packages (from pandas) (2022.7)\n",
      "Requirement already satisfied: numpy>=1.21.0 in c:\\users\\hayan2\\anaconda3\\lib\\site-packages (from pandas) (1.24.3)\n",
      "Requirement already satisfied: six>=1.5 in c:\\users\\hayan2\\anaconda3\\lib\\site-packages (from python-dateutil>=2.8.1->pandas) (1.16.0)\n",
      "Note: you may need to restart the kernel to use updated packages.\n"
     ]
    }
   ],
   "source": [
    "pip install pandas"
   ]
  },
  {
   "cell_type": "code",
   "execution_count": 215,
   "id": "4fea2712",
   "metadata": {},
   "outputs": [],
   "source": [
    "import pandas as pd"
   ]
  },
  {
   "cell_type": "code",
   "execution_count": 216,
   "id": "07cfb805",
   "metadata": {},
   "outputs": [
    {
     "data": {
      "text/html": [
       "<div>\n",
       "<style scoped>\n",
       "    .dataframe tbody tr th:only-of-type {\n",
       "        vertical-align: middle;\n",
       "    }\n",
       "\n",
       "    .dataframe tbody tr th {\n",
       "        vertical-align: top;\n",
       "    }\n",
       "\n",
       "    .dataframe thead th {\n",
       "        text-align: right;\n",
       "    }\n",
       "</style>\n",
       "<table border=\"1\" class=\"dataframe\">\n",
       "  <thead>\n",
       "    <tr style=\"text-align: right;\">\n",
       "      <th></th>\n",
       "      <th>date</th>\n",
       "      <th>symbol</th>\n",
       "      <th>market</th>\n",
       "    </tr>\n",
       "  </thead>\n",
       "  <tbody>\n",
       "    <tr>\n",
       "      <th>삼성전자</th>\n",
       "      <td>1996</td>\n",
       "      <td>1111</td>\n",
       "      <td>KOSPI</td>\n",
       "    </tr>\n",
       "    <tr>\n",
       "      <th>현대차</th>\n",
       "      <td>1976</td>\n",
       "      <td>2222</td>\n",
       "      <td>KOSPI</td>\n",
       "    </tr>\n",
       "    <tr>\n",
       "      <th>NAVER</th>\n",
       "      <td>2010</td>\n",
       "      <td>3333</td>\n",
       "      <td>KOSDAQ</td>\n",
       "    </tr>\n",
       "    <tr>\n",
       "      <th>하이브</th>\n",
       "      <td>2020</td>\n",
       "      <td>4444</td>\n",
       "      <td>KOSDAQ</td>\n",
       "    </tr>\n",
       "  </tbody>\n",
       "</table>\n",
       "</div>"
      ],
      "text/plain": [
       "       date  symbol  market\n",
       "삼성전자   1996    1111   KOSPI\n",
       "현대차    1976    2222   KOSPI\n",
       "NAVER  2010    3333  KOSDAQ\n",
       "하이브    2020    4444  KOSDAQ"
      ]
     },
     "execution_count": 216,
     "metadata": {},
     "output_type": "execute_result"
    }
   ],
   "source": [
    "stock = pd.DataFrame({'date' : ['1996', '1976', '2010', '2020'],\n",
    "                       'symbol' : [1111, 2222, 3333, 4444],\n",
    "                       'market' : ['KOSPI', 'KOSPI', 'KOSDAQ', 'KOSDAQ']\n",
    "                      }, index = ['삼성전자', '현대차', 'NAVER', '하이브'])\n",
    "stock"
   ]
  },
  {
   "cell_type": "code",
   "execution_count": 217,
   "id": "f8084763",
   "metadata": {},
   "outputs": [
    {
     "data": {
      "text/plain": [
       "삼성전자     1996\n",
       "현대차      1976\n",
       "NAVER    2010\n",
       "하이브      2020\n",
       "Name: date, dtype: object"
      ]
     },
     "execution_count": 217,
     "metadata": {},
     "output_type": "execute_result"
    }
   ],
   "source": [
    "stock['date']"
   ]
  },
  {
   "cell_type": "code",
   "execution_count": 218,
   "id": "0275a297",
   "metadata": {},
   "outputs": [
    {
     "data": {
      "text/plain": [
       "삼성전자     1996\n",
       "현대차      1976\n",
       "NAVER    2010\n",
       "하이브      2020\n",
       "Name: date, dtype: object"
      ]
     },
     "execution_count": 218,
     "metadata": {},
     "output_type": "execute_result"
    }
   ],
   "source": [
    "stock.date"
   ]
  },
  {
   "cell_type": "code",
   "execution_count": 219,
   "id": "0045cb68",
   "metadata": {},
   "outputs": [
    {
     "data": {
      "text/html": [
       "<div>\n",
       "<style scoped>\n",
       "    .dataframe tbody tr th:only-of-type {\n",
       "        vertical-align: middle;\n",
       "    }\n",
       "\n",
       "    .dataframe tbody tr th {\n",
       "        vertical-align: top;\n",
       "    }\n",
       "\n",
       "    .dataframe thead th {\n",
       "        text-align: right;\n",
       "    }\n",
       "</style>\n",
       "<table border=\"1\" class=\"dataframe\">\n",
       "  <thead>\n",
       "    <tr style=\"text-align: right;\">\n",
       "      <th></th>\n",
       "      <th>symbol</th>\n",
       "      <th>market</th>\n",
       "    </tr>\n",
       "  </thead>\n",
       "  <tbody>\n",
       "    <tr>\n",
       "      <th>삼성전자</th>\n",
       "      <td>1111</td>\n",
       "      <td>KOSPI</td>\n",
       "    </tr>\n",
       "    <tr>\n",
       "      <th>현대차</th>\n",
       "      <td>2222</td>\n",
       "      <td>KOSPI</td>\n",
       "    </tr>\n",
       "    <tr>\n",
       "      <th>NAVER</th>\n",
       "      <td>3333</td>\n",
       "      <td>KOSDAQ</td>\n",
       "    </tr>\n",
       "    <tr>\n",
       "      <th>하이브</th>\n",
       "      <td>4444</td>\n",
       "      <td>KOSDAQ</td>\n",
       "    </tr>\n",
       "  </tbody>\n",
       "</table>\n",
       "</div>"
      ],
      "text/plain": [
       "       symbol  market\n",
       "삼성전자     1111   KOSPI\n",
       "현대차      2222   KOSPI\n",
       "NAVER    3333  KOSDAQ\n",
       "하이브      4444  KOSDAQ"
      ]
     },
     "execution_count": 219,
     "metadata": {},
     "output_type": "execute_result"
    }
   ],
   "source": [
    "stock[['symbol', 'market']]"
   ]
  },
  {
   "cell_type": "code",
   "execution_count": 220,
   "id": "c2cc30de",
   "metadata": {},
   "outputs": [
    {
     "data": {
      "text/html": [
       "<div>\n",
       "<style scoped>\n",
       "    .dataframe tbody tr th:only-of-type {\n",
       "        vertical-align: middle;\n",
       "    }\n",
       "\n",
       "    .dataframe tbody tr th {\n",
       "        vertical-align: top;\n",
       "    }\n",
       "\n",
       "    .dataframe thead th {\n",
       "        text-align: right;\n",
       "    }\n",
       "</style>\n",
       "<table border=\"1\" class=\"dataframe\">\n",
       "  <thead>\n",
       "    <tr style=\"text-align: right;\">\n",
       "      <th></th>\n",
       "      <th>market</th>\n",
       "    </tr>\n",
       "  </thead>\n",
       "  <tbody>\n",
       "    <tr>\n",
       "      <th>삼성전자</th>\n",
       "      <td>KOSPI</td>\n",
       "    </tr>\n",
       "    <tr>\n",
       "      <th>현대차</th>\n",
       "      <td>KOSPI</td>\n",
       "    </tr>\n",
       "    <tr>\n",
       "      <th>NAVER</th>\n",
       "      <td>KOSDAQ</td>\n",
       "    </tr>\n",
       "    <tr>\n",
       "      <th>하이브</th>\n",
       "      <td>KOSDAQ</td>\n",
       "    </tr>\n",
       "  </tbody>\n",
       "</table>\n",
       "</div>"
      ],
      "text/plain": [
       "       market\n",
       "삼성전자    KOSPI\n",
       "현대차     KOSPI\n",
       "NAVER  KOSDAQ\n",
       "하이브    KOSDAQ"
      ]
     },
     "execution_count": 220,
     "metadata": {},
     "output_type": "execute_result"
    }
   ],
   "source": [
    "stock[['market']]"
   ]
  },
  {
   "cell_type": "markdown",
   "id": "1389ccfc",
   "metadata": {},
   "source": [
    "> ## 연습 2-9"
   ]
  },
  {
   "cell_type": "code",
   "execution_count": 221,
   "id": "e44ea40d",
   "metadata": {},
   "outputs": [
    {
     "data": {
      "text/plain": [
       "0    2021\n",
       "1    2020\n",
       "2    2020\n",
       "3    2019\n",
       "Name: 연도, dtype: int64"
      ]
     },
     "execution_count": 221,
     "metadata": {},
     "output_type": "execute_result"
    }
   ],
   "source": [
    "data = pd.DataFrame({'지역명' : ['서울', '서울', '부산', '광주'],\n",
    "                       '연도' : [2021, 2020, 2020, 2019],\n",
    "                       '규모구분' : [84, 84, 102, 102],\n",
    "                       '분양가격' : [5000, 4000, 6000, 4000]\n",
    "                      })\n",
    "\n",
    "data['연도']"
   ]
  },
  {
   "cell_type": "markdown",
   "id": "e06e6c5a",
   "metadata": {},
   "source": [
    "> ## 연습 2-10"
   ]
  },
  {
   "cell_type": "code",
   "execution_count": 222,
   "id": "cf9be6b3",
   "metadata": {
    "scrolled": true
   },
   "outputs": [
    {
     "data": {
      "text/html": [
       "<div>\n",
       "<style scoped>\n",
       "    .dataframe tbody tr th:only-of-type {\n",
       "        vertical-align: middle;\n",
       "    }\n",
       "\n",
       "    .dataframe tbody tr th {\n",
       "        vertical-align: top;\n",
       "    }\n",
       "\n",
       "    .dataframe thead th {\n",
       "        text-align: right;\n",
       "    }\n",
       "</style>\n",
       "<table border=\"1\" class=\"dataframe\">\n",
       "  <thead>\n",
       "    <tr style=\"text-align: right;\">\n",
       "      <th></th>\n",
       "      <th>지역명</th>\n",
       "      <th>분양가격</th>\n",
       "    </tr>\n",
       "  </thead>\n",
       "  <tbody>\n",
       "    <tr>\n",
       "      <th>0</th>\n",
       "      <td>서울</td>\n",
       "      <td>5000</td>\n",
       "    </tr>\n",
       "    <tr>\n",
       "      <th>1</th>\n",
       "      <td>서울</td>\n",
       "      <td>4000</td>\n",
       "    </tr>\n",
       "    <tr>\n",
       "      <th>2</th>\n",
       "      <td>부산</td>\n",
       "      <td>6000</td>\n",
       "    </tr>\n",
       "    <tr>\n",
       "      <th>3</th>\n",
       "      <td>광주</td>\n",
       "      <td>4000</td>\n",
       "    </tr>\n",
       "  </tbody>\n",
       "</table>\n",
       "</div>"
      ],
      "text/plain": [
       "  지역명  분양가격\n",
       "0  서울  5000\n",
       "1  서울  4000\n",
       "2  부산  6000\n",
       "3  광주  4000"
      ]
     },
     "execution_count": 222,
     "metadata": {},
     "output_type": "execute_result"
    }
   ],
   "source": [
    "data[['지역명', '분양가격']]"
   ]
  },
  {
   "cell_type": "code",
   "execution_count": 223,
   "id": "e19fdde6",
   "metadata": {},
   "outputs": [
    {
     "data": {
      "text/plain": [
       "Index(['date', 'symbol', 'market'], dtype='object')"
      ]
     },
     "execution_count": 223,
     "metadata": {},
     "output_type": "execute_result"
    }
   ],
   "source": [
    "stock.columns"
   ]
  },
  {
   "cell_type": "code",
   "execution_count": 224,
   "id": "439a1087",
   "metadata": {},
   "outputs": [
    {
     "data": {
      "text/plain": [
       "'date'"
      ]
     },
     "execution_count": 224,
     "metadata": {},
     "output_type": "execute_result"
    }
   ],
   "source": [
    "stock.columns[0]"
   ]
  },
  {
   "cell_type": "code",
   "execution_count": 225,
   "id": "74d1d68a",
   "metadata": {},
   "outputs": [
    {
     "data": {
      "text/plain": [
       "'market'"
      ]
     },
     "execution_count": 225,
     "metadata": {},
     "output_type": "execute_result"
    }
   ],
   "source": [
    "stock.columns[2]"
   ]
  },
  {
   "cell_type": "code",
   "execution_count": 226,
   "id": "904d129b",
   "metadata": {},
   "outputs": [
    {
     "data": {
      "text/plain": [
       "삼성전자      KOSPI\n",
       "현대차       KOSPI\n",
       "NAVER    KOSDAQ\n",
       "하이브      KOSDAQ\n",
       "Name: market, dtype: object"
      ]
     },
     "execution_count": 226,
     "metadata": {},
     "output_type": "execute_result"
    }
   ],
   "source": [
    "stock[stock.columns[2]]"
   ]
  },
  {
   "cell_type": "code",
   "execution_count": 227,
   "id": "4f8c6dc4",
   "metadata": {},
   "outputs": [
    {
     "data": {
      "text/plain": [
       "삼성전자      KOSPI\n",
       "현대차       KOSPI\n",
       "NAVER    KOSDAQ\n",
       "하이브      KOSDAQ\n",
       "Name: market, dtype: object"
      ]
     },
     "execution_count": 227,
     "metadata": {},
     "output_type": "execute_result"
    }
   ],
   "source": [
    "stock[stock.columns[-1]]"
   ]
  },
  {
   "cell_type": "markdown",
   "id": "e1d18c9a",
   "metadata": {},
   "source": [
    "> ## 연습 2-10-1"
   ]
  },
  {
   "cell_type": "code",
   "execution_count": 228,
   "id": "056dcc60",
   "metadata": {},
   "outputs": [
    {
     "data": {
      "text/plain": [
       "0    5000\n",
       "1    4000\n",
       "2    6000\n",
       "3    4000\n",
       "Name: 분양가격, dtype: int64"
      ]
     },
     "execution_count": 228,
     "metadata": {},
     "output_type": "execute_result"
    }
   ],
   "source": [
    "data[data.columns[3]]"
   ]
  },
  {
   "cell_type": "markdown",
   "id": "02647580",
   "metadata": {},
   "source": [
    "> ## 연습 2-10-2"
   ]
  },
  {
   "cell_type": "code",
   "execution_count": 229,
   "id": "317f38a7",
   "metadata": {},
   "outputs": [
    {
     "data": {
      "text/html": [
       "<div>\n",
       "<style scoped>\n",
       "    .dataframe tbody tr th:only-of-type {\n",
       "        vertical-align: middle;\n",
       "    }\n",
       "\n",
       "    .dataframe tbody tr th {\n",
       "        vertical-align: top;\n",
       "    }\n",
       "\n",
       "    .dataframe thead th {\n",
       "        text-align: right;\n",
       "    }\n",
       "</style>\n",
       "<table border=\"1\" class=\"dataframe\">\n",
       "  <thead>\n",
       "    <tr style=\"text-align: right;\">\n",
       "      <th></th>\n",
       "      <th>연도</th>\n",
       "      <th>규모구분</th>\n",
       "    </tr>\n",
       "  </thead>\n",
       "  <tbody>\n",
       "    <tr>\n",
       "      <th>0</th>\n",
       "      <td>2021</td>\n",
       "      <td>84</td>\n",
       "    </tr>\n",
       "    <tr>\n",
       "      <th>1</th>\n",
       "      <td>2020</td>\n",
       "      <td>84</td>\n",
       "    </tr>\n",
       "    <tr>\n",
       "      <th>2</th>\n",
       "      <td>2020</td>\n",
       "      <td>102</td>\n",
       "    </tr>\n",
       "    <tr>\n",
       "      <th>3</th>\n",
       "      <td>2019</td>\n",
       "      <td>102</td>\n",
       "    </tr>\n",
       "  </tbody>\n",
       "</table>\n",
       "</div>"
      ],
      "text/plain": [
       "     연도  규모구분\n",
       "0  2021    84\n",
       "1  2020    84\n",
       "2  2020   102\n",
       "3  2019   102"
      ]
     },
     "execution_count": 229,
     "metadata": {},
     "output_type": "execute_result"
    }
   ],
   "source": [
    "data[[data.columns[1], data.columns[2]]]"
   ]
  },
  {
   "cell_type": "code",
   "execution_count": 230,
   "id": "f9e44519",
   "metadata": {},
   "outputs": [
    {
     "data": {
      "text/plain": [
       "삼성전자     1996\n",
       "현대차      1976\n",
       "NAVER    2010\n",
       "하이브      2020\n",
       "Name: date, dtype: object"
      ]
     },
     "execution_count": 230,
     "metadata": {},
     "output_type": "execute_result"
    }
   ],
   "source": [
    "stock['date']"
   ]
  },
  {
   "cell_type": "code",
   "execution_count": 231,
   "id": "d80dd028",
   "metadata": {},
   "outputs": [
    {
     "data": {
      "text/plain": [
       "현대차      1976\n",
       "NAVER    2010\n",
       "Name: date, dtype: object"
      ]
     },
     "execution_count": 231,
     "metadata": {},
     "output_type": "execute_result"
    }
   ],
   "source": [
    "stock['date'][1:3]"
   ]
  },
  {
   "cell_type": "code",
   "execution_count": 232,
   "id": "c8687247",
   "metadata": {},
   "outputs": [
    {
     "data": {
      "text/html": [
       "<div>\n",
       "<style scoped>\n",
       "    .dataframe tbody tr th:only-of-type {\n",
       "        vertical-align: middle;\n",
       "    }\n",
       "\n",
       "    .dataframe tbody tr th {\n",
       "        vertical-align: top;\n",
       "    }\n",
       "\n",
       "    .dataframe thead th {\n",
       "        text-align: right;\n",
       "    }\n",
       "</style>\n",
       "<table border=\"1\" class=\"dataframe\">\n",
       "  <thead>\n",
       "    <tr style=\"text-align: right;\">\n",
       "      <th></th>\n",
       "      <th>date</th>\n",
       "      <th>market</th>\n",
       "    </tr>\n",
       "  </thead>\n",
       "  <tbody>\n",
       "    <tr>\n",
       "      <th>NAVER</th>\n",
       "      <td>2010</td>\n",
       "      <td>KOSDAQ</td>\n",
       "    </tr>\n",
       "    <tr>\n",
       "      <th>하이브</th>\n",
       "      <td>2020</td>\n",
       "      <td>KOSDAQ</td>\n",
       "    </tr>\n",
       "  </tbody>\n",
       "</table>\n",
       "</div>"
      ],
      "text/plain": [
       "       date  market\n",
       "NAVER  2010  KOSDAQ\n",
       "하이브    2020  KOSDAQ"
      ]
     },
     "execution_count": 232,
     "metadata": {},
     "output_type": "execute_result"
    }
   ],
   "source": [
    "stock[['date', 'market']][2:]"
   ]
  },
  {
   "cell_type": "markdown",
   "id": "51d82b1a",
   "metadata": {},
   "source": [
    "> ## 연습 2-10-3"
   ]
  },
  {
   "cell_type": "code",
   "execution_count": 233,
   "id": "f44435e8",
   "metadata": {},
   "outputs": [
    {
     "data": {
      "text/html": [
       "<div>\n",
       "<style scoped>\n",
       "    .dataframe tbody tr th:only-of-type {\n",
       "        vertical-align: middle;\n",
       "    }\n",
       "\n",
       "    .dataframe tbody tr th {\n",
       "        vertical-align: top;\n",
       "    }\n",
       "\n",
       "    .dataframe thead th {\n",
       "        text-align: right;\n",
       "    }\n",
       "</style>\n",
       "<table border=\"1\" class=\"dataframe\">\n",
       "  <thead>\n",
       "    <tr style=\"text-align: right;\">\n",
       "      <th></th>\n",
       "      <th>연도</th>\n",
       "      <th>규모구분</th>\n",
       "    </tr>\n",
       "  </thead>\n",
       "  <tbody>\n",
       "    <tr>\n",
       "      <th>0</th>\n",
       "      <td>2021</td>\n",
       "      <td>84</td>\n",
       "    </tr>\n",
       "    <tr>\n",
       "      <th>1</th>\n",
       "      <td>2020</td>\n",
       "      <td>84</td>\n",
       "    </tr>\n",
       "  </tbody>\n",
       "</table>\n",
       "</div>"
      ],
      "text/plain": [
       "     연도  규모구분\n",
       "0  2021    84\n",
       "1  2020    84"
      ]
     },
     "execution_count": 233,
     "metadata": {},
     "output_type": "execute_result"
    }
   ],
   "source": [
    "data[['연도', '규모구분']][:2]"
   ]
  },
  {
   "cell_type": "code",
   "execution_count": 234,
   "id": "2dba142f",
   "metadata": {},
   "outputs": [
    {
     "data": {
      "text/plain": [
       "date       1976\n",
       "symbol     2222\n",
       "market    KOSPI\n",
       "Name: 현대차, dtype: object"
      ]
     },
     "execution_count": 234,
     "metadata": {},
     "output_type": "execute_result"
    }
   ],
   "source": [
    "stock.loc['현대차']"
   ]
  },
  {
   "cell_type": "code",
   "execution_count": 235,
   "id": "88c183a6",
   "metadata": {},
   "outputs": [
    {
     "data": {
      "text/plain": [
       "['1976', 2222, 'KOSPI']"
      ]
     },
     "execution_count": 235,
     "metadata": {},
     "output_type": "execute_result"
    }
   ],
   "source": [
    "new_stock = stock.loc['현대차']\n",
    "list(new_stock)"
   ]
  },
  {
   "cell_type": "code",
   "execution_count": 236,
   "id": "e592902c",
   "metadata": {},
   "outputs": [
    {
     "data": {
      "text/plain": [
       "{'date': '1976', 'symbol': 2222, 'market': 'KOSPI'}"
      ]
     },
     "execution_count": 236,
     "metadata": {},
     "output_type": "execute_result"
    }
   ],
   "source": [
    "dict(new_stock)"
   ]
  },
  {
   "cell_type": "code",
   "execution_count": 237,
   "id": "16839a0f",
   "metadata": {},
   "outputs": [
    {
     "data": {
      "text/html": [
       "<div>\n",
       "<style scoped>\n",
       "    .dataframe tbody tr th:only-of-type {\n",
       "        vertical-align: middle;\n",
       "    }\n",
       "\n",
       "    .dataframe tbody tr th {\n",
       "        vertical-align: top;\n",
       "    }\n",
       "\n",
       "    .dataframe thead th {\n",
       "        text-align: right;\n",
       "    }\n",
       "</style>\n",
       "<table border=\"1\" class=\"dataframe\">\n",
       "  <thead>\n",
       "    <tr style=\"text-align: right;\">\n",
       "      <th></th>\n",
       "      <th>date</th>\n",
       "      <th>symbol</th>\n",
       "      <th>market</th>\n",
       "    </tr>\n",
       "  </thead>\n",
       "  <tbody>\n",
       "    <tr>\n",
       "      <th>하이브</th>\n",
       "      <td>2020</td>\n",
       "      <td>4444</td>\n",
       "      <td>KOSDAQ</td>\n",
       "    </tr>\n",
       "    <tr>\n",
       "      <th>NAVER</th>\n",
       "      <td>2010</td>\n",
       "      <td>3333</td>\n",
       "      <td>KOSDAQ</td>\n",
       "    </tr>\n",
       "  </tbody>\n",
       "</table>\n",
       "</div>"
      ],
      "text/plain": [
       "       date  symbol  market\n",
       "하이브    2020    4444  KOSDAQ\n",
       "NAVER  2010    3333  KOSDAQ"
      ]
     },
     "execution_count": 237,
     "metadata": {},
     "output_type": "execute_result"
    }
   ],
   "source": [
    "stock.loc[['하이브', 'NAVER']]"
   ]
  },
  {
   "cell_type": "code",
   "execution_count": 238,
   "id": "0b6c013a",
   "metadata": {},
   "outputs": [
    {
     "data": {
      "text/plain": [
       "date        2010\n",
       "symbol      3333\n",
       "market    KOSDAQ\n",
       "Name: NAVER, dtype: object"
      ]
     },
     "execution_count": 238,
     "metadata": {},
     "output_type": "execute_result"
    }
   ],
   "source": [
    "stock.iloc[2]"
   ]
  },
  {
   "cell_type": "code",
   "execution_count": 239,
   "id": "1707341a",
   "metadata": {},
   "outputs": [
    {
     "data": {
      "text/html": [
       "<div>\n",
       "<style scoped>\n",
       "    .dataframe tbody tr th:only-of-type {\n",
       "        vertical-align: middle;\n",
       "    }\n",
       "\n",
       "    .dataframe tbody tr th {\n",
       "        vertical-align: top;\n",
       "    }\n",
       "\n",
       "    .dataframe thead th {\n",
       "        text-align: right;\n",
       "    }\n",
       "</style>\n",
       "<table border=\"1\" class=\"dataframe\">\n",
       "  <thead>\n",
       "    <tr style=\"text-align: right;\">\n",
       "      <th></th>\n",
       "      <th>date</th>\n",
       "      <th>symbol</th>\n",
       "      <th>market</th>\n",
       "    </tr>\n",
       "  </thead>\n",
       "  <tbody>\n",
       "    <tr>\n",
       "      <th>현대차</th>\n",
       "      <td>1976</td>\n",
       "      <td>2222</td>\n",
       "      <td>KOSPI</td>\n",
       "    </tr>\n",
       "    <tr>\n",
       "      <th>NAVER</th>\n",
       "      <td>2010</td>\n",
       "      <td>3333</td>\n",
       "      <td>KOSDAQ</td>\n",
       "    </tr>\n",
       "  </tbody>\n",
       "</table>\n",
       "</div>"
      ],
      "text/plain": [
       "       date  symbol  market\n",
       "현대차    1976    2222   KOSPI\n",
       "NAVER  2010    3333  KOSDAQ"
      ]
     },
     "execution_count": 239,
     "metadata": {},
     "output_type": "execute_result"
    }
   ],
   "source": [
    "stock.iloc[[1, 2]]"
   ]
  },
  {
   "cell_type": "code",
   "execution_count": 240,
   "id": "ae56c2d3",
   "metadata": {},
   "outputs": [
    {
     "data": {
      "text/html": [
       "<div>\n",
       "<style scoped>\n",
       "    .dataframe tbody tr th:only-of-type {\n",
       "        vertical-align: middle;\n",
       "    }\n",
       "\n",
       "    .dataframe tbody tr th {\n",
       "        vertical-align: top;\n",
       "    }\n",
       "\n",
       "    .dataframe thead th {\n",
       "        text-align: right;\n",
       "    }\n",
       "</style>\n",
       "<table border=\"1\" class=\"dataframe\">\n",
       "  <thead>\n",
       "    <tr style=\"text-align: right;\">\n",
       "      <th></th>\n",
       "      <th>date</th>\n",
       "      <th>symbol</th>\n",
       "      <th>market</th>\n",
       "    </tr>\n",
       "  </thead>\n",
       "  <tbody>\n",
       "    <tr>\n",
       "      <th>현대차</th>\n",
       "      <td>1976</td>\n",
       "      <td>2222</td>\n",
       "      <td>KOSPI</td>\n",
       "    </tr>\n",
       "    <tr>\n",
       "      <th>NAVER</th>\n",
       "      <td>2010</td>\n",
       "      <td>3333</td>\n",
       "      <td>KOSDAQ</td>\n",
       "    </tr>\n",
       "  </tbody>\n",
       "</table>\n",
       "</div>"
      ],
      "text/plain": [
       "       date  symbol  market\n",
       "현대차    1976    2222   KOSPI\n",
       "NAVER  2010    3333  KOSDAQ"
      ]
     },
     "execution_count": 240,
     "metadata": {},
     "output_type": "execute_result"
    }
   ],
   "source": [
    "stock.iloc[1:3]"
   ]
  },
  {
   "cell_type": "markdown",
   "id": "3a33c326",
   "metadata": {},
   "source": [
    "> ## 연습 2-11"
   ]
  },
  {
   "cell_type": "code",
   "execution_count": 255,
   "id": "2353fac8",
   "metadata": {},
   "outputs": [
    {
     "name": "stdout",
     "output_type": "stream",
     "text": [
      "지역명       부산\n",
      "연도      2020\n",
      "규모구분     102\n",
      "분양가격    6000\n",
      "Name: c, dtype: object\n"
     ]
    },
    {
     "data": {
      "text/plain": [
       "지역명       서울\n",
       "연도      2021\n",
       "규모구분      84\n",
       "분양가격    5000\n",
       "Name: a, dtype: object"
      ]
     },
     "execution_count": 255,
     "metadata": {},
     "output_type": "execute_result"
    }
   ],
   "source": [
    "data.rename(index = {0 : 'a', 1 : 'b', 2 : 'c', 3 : 'd'}, inplace = True)\n",
    "print(data.loc['c'])\n",
    "data.iloc[0]"
   ]
  },
  {
   "cell_type": "markdown",
   "id": "3f38510c",
   "metadata": {},
   "source": [
    "> ## 연습 2-12"
   ]
  },
  {
   "cell_type": "code",
   "execution_count": 257,
   "id": "38baf886",
   "metadata": {},
   "outputs": [
    {
     "data": {
      "text/html": [
       "<div>\n",
       "<style scoped>\n",
       "    .dataframe tbody tr th:only-of-type {\n",
       "        vertical-align: middle;\n",
       "    }\n",
       "\n",
       "    .dataframe tbody tr th {\n",
       "        vertical-align: top;\n",
       "    }\n",
       "\n",
       "    .dataframe thead th {\n",
       "        text-align: right;\n",
       "    }\n",
       "</style>\n",
       "<table border=\"1\" class=\"dataframe\">\n",
       "  <thead>\n",
       "    <tr style=\"text-align: right;\">\n",
       "      <th></th>\n",
       "      <th>지역명</th>\n",
       "      <th>연도</th>\n",
       "      <th>규모구분</th>\n",
       "      <th>분양가격</th>\n",
       "    </tr>\n",
       "  </thead>\n",
       "  <tbody>\n",
       "    <tr>\n",
       "      <th>b</th>\n",
       "      <td>서울</td>\n",
       "      <td>2020</td>\n",
       "      <td>84</td>\n",
       "      <td>4000</td>\n",
       "    </tr>\n",
       "    <tr>\n",
       "      <th>c</th>\n",
       "      <td>부산</td>\n",
       "      <td>2020</td>\n",
       "      <td>102</td>\n",
       "      <td>6000</td>\n",
       "    </tr>\n",
       "    <tr>\n",
       "      <th>d</th>\n",
       "      <td>광주</td>\n",
       "      <td>2019</td>\n",
       "      <td>102</td>\n",
       "      <td>4000</td>\n",
       "    </tr>\n",
       "  </tbody>\n",
       "</table>\n",
       "</div>"
      ],
      "text/plain": [
       "  지역명    연도  규모구분  분양가격\n",
       "b  서울  2020    84  4000\n",
       "c  부산  2020   102  6000\n",
       "d  광주  2019   102  4000"
      ]
     },
     "execution_count": 257,
     "metadata": {},
     "output_type": "execute_result"
    }
   ],
   "source": [
    "data.loc[['b', 'c', 'd']]"
   ]
  },
  {
   "cell_type": "code",
   "execution_count": 258,
   "id": "c57093be",
   "metadata": {},
   "outputs": [
    {
     "data": {
      "text/html": [
       "<div>\n",
       "<style scoped>\n",
       "    .dataframe tbody tr th:only-of-type {\n",
       "        vertical-align: middle;\n",
       "    }\n",
       "\n",
       "    .dataframe tbody tr th {\n",
       "        vertical-align: top;\n",
       "    }\n",
       "\n",
       "    .dataframe thead th {\n",
       "        text-align: right;\n",
       "    }\n",
       "</style>\n",
       "<table border=\"1\" class=\"dataframe\">\n",
       "  <thead>\n",
       "    <tr style=\"text-align: right;\">\n",
       "      <th></th>\n",
       "      <th>지역명</th>\n",
       "      <th>연도</th>\n",
       "      <th>규모구분</th>\n",
       "      <th>분양가격</th>\n",
       "    </tr>\n",
       "  </thead>\n",
       "  <tbody>\n",
       "    <tr>\n",
       "      <th>b</th>\n",
       "      <td>서울</td>\n",
       "      <td>2020</td>\n",
       "      <td>84</td>\n",
       "      <td>4000</td>\n",
       "    </tr>\n",
       "    <tr>\n",
       "      <th>c</th>\n",
       "      <td>부산</td>\n",
       "      <td>2020</td>\n",
       "      <td>102</td>\n",
       "      <td>6000</td>\n",
       "    </tr>\n",
       "    <tr>\n",
       "      <th>d</th>\n",
       "      <td>광주</td>\n",
       "      <td>2019</td>\n",
       "      <td>102</td>\n",
       "      <td>4000</td>\n",
       "    </tr>\n",
       "  </tbody>\n",
       "</table>\n",
       "</div>"
      ],
      "text/plain": [
       "  지역명    연도  규모구분  분양가격\n",
       "b  서울  2020    84  4000\n",
       "c  부산  2020   102  6000\n",
       "d  광주  2019   102  4000"
      ]
     },
     "execution_count": 258,
     "metadata": {},
     "output_type": "execute_result"
    }
   ],
   "source": [
    "data.iloc[[1, 2, 3]]"
   ]
  },
  {
   "cell_type": "code",
   "execution_count": 260,
   "id": "3aea8b57",
   "metadata": {},
   "outputs": [
    {
     "data": {
      "text/html": [
       "<div>\n",
       "<style scoped>\n",
       "    .dataframe tbody tr th:only-of-type {\n",
       "        vertical-align: middle;\n",
       "    }\n",
       "\n",
       "    .dataframe tbody tr th {\n",
       "        vertical-align: top;\n",
       "    }\n",
       "\n",
       "    .dataframe thead th {\n",
       "        text-align: right;\n",
       "    }\n",
       "</style>\n",
       "<table border=\"1\" class=\"dataframe\">\n",
       "  <thead>\n",
       "    <tr style=\"text-align: right;\">\n",
       "      <th></th>\n",
       "      <th>부서</th>\n",
       "      <th>입사일</th>\n",
       "    </tr>\n",
       "  </thead>\n",
       "  <tbody>\n",
       "    <tr>\n",
       "      <th>김철수</th>\n",
       "      <td>인사팀</td>\n",
       "      <td>2020.9</td>\n",
       "    </tr>\n",
       "    <tr>\n",
       "      <th>장보고</th>\n",
       "      <td>관리팀</td>\n",
       "      <td>2010.5</td>\n",
       "    </tr>\n",
       "    <tr>\n",
       "      <th>홍길동</th>\n",
       "      <td>관리팀</td>\n",
       "      <td>2015.8</td>\n",
       "    </tr>\n",
       "  </tbody>\n",
       "</table>\n",
       "</div>"
      ],
      "text/plain": [
       "      부서     입사일\n",
       "김철수  인사팀  2020.9\n",
       "장보고  관리팀  2010.5\n",
       "홍길동  관리팀  2015.8"
      ]
     },
     "execution_count": 260,
     "metadata": {},
     "output_type": "execute_result"
    }
   ],
   "source": [
    "company = pd.DataFrame([['인사팀', '2020.9'],\n",
    "                       ['인사팀', '2015.3'],\n",
    "                       ['관리팀', '2010.5'],\n",
    "                       ['영업팀', '2020.5'],\n",
    "                       ['관리팀', '2015.8'],\n",
    "                       ['기획팀', '2010.5']\n",
    "                       ], columns = ['부서', '입사일'],\n",
    "                      index = ['김철수', '이영희', '장보고', '이순신', '홍길동', '김기준'])\n",
    "company[::2]"
   ]
  },
  {
   "cell_type": "code",
   "execution_count": 261,
   "id": "789eb538",
   "metadata": {},
   "outputs": [
    {
     "data": {
      "text/html": [
       "<div>\n",
       "<style scoped>\n",
       "    .dataframe tbody tr th:only-of-type {\n",
       "        vertical-align: middle;\n",
       "    }\n",
       "\n",
       "    .dataframe tbody tr th {\n",
       "        vertical-align: top;\n",
       "    }\n",
       "\n",
       "    .dataframe thead th {\n",
       "        text-align: right;\n",
       "    }\n",
       "</style>\n",
       "<table border=\"1\" class=\"dataframe\">\n",
       "  <thead>\n",
       "    <tr style=\"text-align: right;\">\n",
       "      <th></th>\n",
       "      <th>부서</th>\n",
       "      <th>입사일</th>\n",
       "    </tr>\n",
       "  </thead>\n",
       "  <tbody>\n",
       "    <tr>\n",
       "      <th>김철수</th>\n",
       "      <td>인사팀</td>\n",
       "      <td>2020.9</td>\n",
       "    </tr>\n",
       "    <tr>\n",
       "      <th>장보고</th>\n",
       "      <td>관리팀</td>\n",
       "      <td>2010.5</td>\n",
       "    </tr>\n",
       "  </tbody>\n",
       "</table>\n",
       "</div>"
      ],
      "text/plain": [
       "      부서     입사일\n",
       "김철수  인사팀  2020.9\n",
       "장보고  관리팀  2010.5"
      ]
     },
     "execution_count": 261,
     "metadata": {},
     "output_type": "execute_result"
    }
   ],
   "source": [
    "company[0:4:2]"
   ]
  },
  {
   "cell_type": "code",
   "execution_count": 262,
   "id": "e5588c63",
   "metadata": {},
   "outputs": [
    {
     "data": {
      "text/html": [
       "<div>\n",
       "<style scoped>\n",
       "    .dataframe tbody tr th:only-of-type {\n",
       "        vertical-align: middle;\n",
       "    }\n",
       "\n",
       "    .dataframe tbody tr th {\n",
       "        vertical-align: top;\n",
       "    }\n",
       "\n",
       "    .dataframe thead th {\n",
       "        text-align: right;\n",
       "    }\n",
       "</style>\n",
       "<table border=\"1\" class=\"dataframe\">\n",
       "  <thead>\n",
       "    <tr style=\"text-align: right;\">\n",
       "      <th></th>\n",
       "      <th>부서</th>\n",
       "      <th>입사일</th>\n",
       "    </tr>\n",
       "  </thead>\n",
       "  <tbody>\n",
       "    <tr>\n",
       "      <th>김기준</th>\n",
       "      <td>기획팀</td>\n",
       "      <td>2010.5</td>\n",
       "    </tr>\n",
       "    <tr>\n",
       "      <th>홍길동</th>\n",
       "      <td>관리팀</td>\n",
       "      <td>2015.8</td>\n",
       "    </tr>\n",
       "    <tr>\n",
       "      <th>이순신</th>\n",
       "      <td>영업팀</td>\n",
       "      <td>2020.5</td>\n",
       "    </tr>\n",
       "    <tr>\n",
       "      <th>장보고</th>\n",
       "      <td>관리팀</td>\n",
       "      <td>2010.5</td>\n",
       "    </tr>\n",
       "    <tr>\n",
       "      <th>이영희</th>\n",
       "      <td>인사팀</td>\n",
       "      <td>2015.3</td>\n",
       "    </tr>\n",
       "    <tr>\n",
       "      <th>김철수</th>\n",
       "      <td>인사팀</td>\n",
       "      <td>2020.9</td>\n",
       "    </tr>\n",
       "  </tbody>\n",
       "</table>\n",
       "</div>"
      ],
      "text/plain": [
       "      부서     입사일\n",
       "김기준  기획팀  2010.5\n",
       "홍길동  관리팀  2015.8\n",
       "이순신  영업팀  2020.5\n",
       "장보고  관리팀  2010.5\n",
       "이영희  인사팀  2015.3\n",
       "김철수  인사팀  2020.9"
      ]
     },
     "execution_count": 262,
     "metadata": {},
     "output_type": "execute_result"
    }
   ],
   "source": [
    "company[::-1]"
   ]
  },
  {
   "cell_type": "markdown",
   "id": "b9e0aa9b",
   "metadata": {},
   "source": [
    "> ## 연습 2-13"
   ]
  },
  {
   "cell_type": "code",
   "execution_count": 266,
   "id": "d718faee",
   "metadata": {},
   "outputs": [
    {
     "data": {
      "text/html": [
       "<div>\n",
       "<style scoped>\n",
       "    .dataframe tbody tr th:only-of-type {\n",
       "        vertical-align: middle;\n",
       "    }\n",
       "\n",
       "    .dataframe tbody tr th {\n",
       "        vertical-align: top;\n",
       "    }\n",
       "\n",
       "    .dataframe thead th {\n",
       "        text-align: right;\n",
       "    }\n",
       "</style>\n",
       "<table border=\"1\" class=\"dataframe\">\n",
       "  <thead>\n",
       "    <tr style=\"text-align: right;\">\n",
       "      <th></th>\n",
       "      <th>부서</th>\n",
       "      <th>입사일</th>\n",
       "    </tr>\n",
       "  </thead>\n",
       "  <tbody>\n",
       "    <tr>\n",
       "      <th>이영희</th>\n",
       "      <td>인사팀</td>\n",
       "      <td>2015.3</td>\n",
       "    </tr>\n",
       "    <tr>\n",
       "      <th>이순신</th>\n",
       "      <td>영업팀</td>\n",
       "      <td>2020.5</td>\n",
       "    </tr>\n",
       "    <tr>\n",
       "      <th>김기준</th>\n",
       "      <td>기획팀</td>\n",
       "      <td>2010.5</td>\n",
       "    </tr>\n",
       "  </tbody>\n",
       "</table>\n",
       "</div>"
      ],
      "text/plain": [
       "      부서     입사일\n",
       "이영희  인사팀  2015.3\n",
       "이순신  영업팀  2020.5\n",
       "김기준  기획팀  2010.5"
      ]
     },
     "execution_count": 266,
     "metadata": {},
     "output_type": "execute_result"
    }
   ],
   "source": [
    "company[1:(len(company.index)):2]"
   ]
  },
  {
   "cell_type": "code",
   "execution_count": 268,
   "id": "07717f2e",
   "metadata": {},
   "outputs": [
    {
     "data": {
      "text/plain": [
       "'관리팀'"
      ]
     },
     "execution_count": 268,
     "metadata": {},
     "output_type": "execute_result"
    }
   ],
   "source": [
    "company.loc['홍길동', '부서']"
   ]
  },
  {
   "cell_type": "code",
   "execution_count": 269,
   "id": "bd94410e",
   "metadata": {},
   "outputs": [
    {
     "data": {
      "text/plain": [
       "'관리팀'"
      ]
     },
     "execution_count": 269,
     "metadata": {},
     "output_type": "execute_result"
    }
   ],
   "source": [
    "company.iloc[4, 0]"
   ]
  },
  {
   "cell_type": "code",
   "execution_count": 270,
   "id": "6b42437b",
   "metadata": {},
   "outputs": [
    {
     "data": {
      "text/plain": [
       "부서        인사팀\n",
       "입사일    2015.3\n",
       "Name: 이영희, dtype: object"
      ]
     },
     "execution_count": 270,
     "metadata": {},
     "output_type": "execute_result"
    }
   ],
   "source": [
    "company.loc['이영희', ['부서', '입사일']]"
   ]
  },
  {
   "cell_type": "code",
   "execution_count": 271,
   "id": "382a6852",
   "metadata": {},
   "outputs": [
    {
     "data": {
      "text/plain": [
       "부서        인사팀\n",
       "입사일    2015.3\n",
       "Name: 이영희, dtype: object"
      ]
     },
     "execution_count": 271,
     "metadata": {},
     "output_type": "execute_result"
    }
   ],
   "source": [
    "company.iloc[1, [0, 1]]"
   ]
  },
  {
   "cell_type": "code",
   "execution_count": 272,
   "id": "d48dd8f1",
   "metadata": {},
   "outputs": [
    {
     "data": {
      "text/plain": [
       "부서        인사팀\n",
       "입사일    2015.3\n",
       "Name: 이영희, dtype: object"
      ]
     },
     "execution_count": 272,
     "metadata": {},
     "output_type": "execute_result"
    }
   ],
   "source": [
    "company.loc['이영희', '부서' : '입사일']"
   ]
  },
  {
   "cell_type": "code",
   "execution_count": 273,
   "id": "a0d9e7f8",
   "metadata": {},
   "outputs": [
    {
     "data": {
      "text/plain": [
       "부서        인사팀\n",
       "입사일    2015.3\n",
       "Name: 이영희, dtype: object"
      ]
     },
     "execution_count": 273,
     "metadata": {},
     "output_type": "execute_result"
    }
   ],
   "source": [
    "company.iloc[1, 0:]"
   ]
  },
  {
   "cell_type": "markdown",
   "id": "a9551e19",
   "metadata": {},
   "source": [
    "> ## 연습 2-14"
   ]
  },
  {
   "cell_type": "code",
   "execution_count": 276,
   "id": "912b43c0",
   "metadata": {},
   "outputs": [
    {
     "data": {
      "text/plain": [
       "'부산'"
      ]
     },
     "execution_count": 276,
     "metadata": {},
     "output_type": "execute_result"
    }
   ],
   "source": [
    "data.loc['c', '지역명']"
   ]
  },
  {
   "cell_type": "code",
   "execution_count": 278,
   "id": "f6c6aceb",
   "metadata": {},
   "outputs": [
    {
     "data": {
      "text/plain": [
       "지역명      광주\n",
       "연도     2019\n",
       "Name: d, dtype: object"
      ]
     },
     "execution_count": 278,
     "metadata": {},
     "output_type": "execute_result"
    }
   ],
   "source": [
    "data.loc['d', ['지역명', '연도']]"
   ]
  },
  {
   "cell_type": "code",
   "execution_count": 283,
   "id": "83bd712b",
   "metadata": {},
   "outputs": [
    {
     "data": {
      "text/html": [
       "<div>\n",
       "<style scoped>\n",
       "    .dataframe tbody tr th:only-of-type {\n",
       "        vertical-align: middle;\n",
       "    }\n",
       "\n",
       "    .dataframe tbody tr th {\n",
       "        vertical-align: top;\n",
       "    }\n",
       "\n",
       "    .dataframe thead th {\n",
       "        text-align: right;\n",
       "    }\n",
       "</style>\n",
       "<table border=\"1\" class=\"dataframe\">\n",
       "  <thead>\n",
       "    <tr style=\"text-align: right;\">\n",
       "      <th></th>\n",
       "      <th>부서</th>\n",
       "      <th>입사일</th>\n",
       "    </tr>\n",
       "  </thead>\n",
       "  <tbody>\n",
       "    <tr>\n",
       "      <th>김철수</th>\n",
       "      <td>인사팀</td>\n",
       "      <td>2020.9</td>\n",
       "    </tr>\n",
       "    <tr>\n",
       "      <th>이영희</th>\n",
       "      <td>인사팀</td>\n",
       "      <td>2015.3</td>\n",
       "    </tr>\n",
       "    <tr>\n",
       "      <th>장보고</th>\n",
       "      <td>관리팀</td>\n",
       "      <td>2010.5</td>\n",
       "    </tr>\n",
       "    <tr>\n",
       "      <th>이순신</th>\n",
       "      <td>영업팀</td>\n",
       "      <td>2020.5</td>\n",
       "    </tr>\n",
       "    <tr>\n",
       "      <th>홍길동</th>\n",
       "      <td>관리팀</td>\n",
       "      <td>2015.8</td>\n",
       "    </tr>\n",
       "    <tr>\n",
       "      <th>김기준</th>\n",
       "      <td>기획팀</td>\n",
       "      <td>2010.5</td>\n",
       "    </tr>\n",
       "  </tbody>\n",
       "</table>\n",
       "</div>"
      ],
      "text/plain": [
       "      부서     입사일\n",
       "김철수  인사팀  2020.9\n",
       "이영희  인사팀  2015.3\n",
       "장보고  관리팀  2010.5\n",
       "이순신  영업팀  2020.5\n",
       "홍길동  관리팀  2015.8\n",
       "김기준  기획팀  2010.5"
      ]
     },
     "execution_count": 283,
     "metadata": {},
     "output_type": "execute_result"
    }
   ],
   "source": [
    "company"
   ]
  },
  {
   "cell_type": "code",
   "execution_count": 279,
   "id": "f31652da",
   "metadata": {},
   "outputs": [
    {
     "data": {
      "text/html": [
       "<div>\n",
       "<style scoped>\n",
       "    .dataframe tbody tr th:only-of-type {\n",
       "        vertical-align: middle;\n",
       "    }\n",
       "\n",
       "    .dataframe tbody tr th {\n",
       "        vertical-align: top;\n",
       "    }\n",
       "\n",
       "    .dataframe thead th {\n",
       "        text-align: right;\n",
       "    }\n",
       "</style>\n",
       "<table border=\"1\" class=\"dataframe\">\n",
       "  <thead>\n",
       "    <tr style=\"text-align: right;\">\n",
       "      <th></th>\n",
       "      <th>부서</th>\n",
       "      <th>입사일</th>\n",
       "    </tr>\n",
       "  </thead>\n",
       "  <tbody>\n",
       "    <tr>\n",
       "      <th>김철수</th>\n",
       "      <td>인사팀</td>\n",
       "      <td>2020.9</td>\n",
       "    </tr>\n",
       "    <tr>\n",
       "      <th>이영희</th>\n",
       "      <td>인사팀</td>\n",
       "      <td>2015.3</td>\n",
       "    </tr>\n",
       "  </tbody>\n",
       "</table>\n",
       "</div>"
      ],
      "text/plain": [
       "      부서     입사일\n",
       "김철수  인사팀  2020.9\n",
       "이영희  인사팀  2015.3"
      ]
     },
     "execution_count": 279,
     "metadata": {},
     "output_type": "execute_result"
    }
   ],
   "source": [
    "company.loc[['김철수', '이영희'], ['부서', '입사일']]"
   ]
  },
  {
   "cell_type": "code",
   "execution_count": 280,
   "id": "758ff142",
   "metadata": {},
   "outputs": [
    {
     "data": {
      "text/html": [
       "<div>\n",
       "<style scoped>\n",
       "    .dataframe tbody tr th:only-of-type {\n",
       "        vertical-align: middle;\n",
       "    }\n",
       "\n",
       "    .dataframe tbody tr th {\n",
       "        vertical-align: top;\n",
       "    }\n",
       "\n",
       "    .dataframe thead th {\n",
       "        text-align: right;\n",
       "    }\n",
       "</style>\n",
       "<table border=\"1\" class=\"dataframe\">\n",
       "  <thead>\n",
       "    <tr style=\"text-align: right;\">\n",
       "      <th></th>\n",
       "      <th>부서</th>\n",
       "      <th>입사일</th>\n",
       "    </tr>\n",
       "  </thead>\n",
       "  <tbody>\n",
       "    <tr>\n",
       "      <th>김철수</th>\n",
       "      <td>인사팀</td>\n",
       "      <td>2020.9</td>\n",
       "    </tr>\n",
       "    <tr>\n",
       "      <th>이영희</th>\n",
       "      <td>인사팀</td>\n",
       "      <td>2015.3</td>\n",
       "    </tr>\n",
       "  </tbody>\n",
       "</table>\n",
       "</div>"
      ],
      "text/plain": [
       "      부서     입사일\n",
       "김철수  인사팀  2020.9\n",
       "이영희  인사팀  2015.3"
      ]
     },
     "execution_count": 280,
     "metadata": {},
     "output_type": "execute_result"
    }
   ],
   "source": [
    "company.loc['김철수' : '이영희', '부서' : '입사일']"
   ]
  },
  {
   "cell_type": "code",
   "execution_count": 281,
   "id": "c47827b4",
   "metadata": {},
   "outputs": [
    {
     "data": {
      "text/html": [
       "<div>\n",
       "<style scoped>\n",
       "    .dataframe tbody tr th:only-of-type {\n",
       "        vertical-align: middle;\n",
       "    }\n",
       "\n",
       "    .dataframe tbody tr th {\n",
       "        vertical-align: top;\n",
       "    }\n",
       "\n",
       "    .dataframe thead th {\n",
       "        text-align: right;\n",
       "    }\n",
       "</style>\n",
       "<table border=\"1\" class=\"dataframe\">\n",
       "  <thead>\n",
       "    <tr style=\"text-align: right;\">\n",
       "      <th></th>\n",
       "      <th>부서</th>\n",
       "      <th>입사일</th>\n",
       "    </tr>\n",
       "  </thead>\n",
       "  <tbody>\n",
       "    <tr>\n",
       "      <th>김철수</th>\n",
       "      <td>인사팀</td>\n",
       "      <td>2020.9</td>\n",
       "    </tr>\n",
       "    <tr>\n",
       "      <th>이영희</th>\n",
       "      <td>인사팀</td>\n",
       "      <td>2015.3</td>\n",
       "    </tr>\n",
       "  </tbody>\n",
       "</table>\n",
       "</div>"
      ],
      "text/plain": [
       "      부서     입사일\n",
       "김철수  인사팀  2020.9\n",
       "이영희  인사팀  2015.3"
      ]
     },
     "execution_count": 281,
     "metadata": {},
     "output_type": "execute_result"
    }
   ],
   "source": [
    "company.iloc[[0, 1], [0, 1]]"
   ]
  },
  {
   "cell_type": "code",
   "execution_count": 282,
   "id": "f972aa34",
   "metadata": {},
   "outputs": [
    {
     "data": {
      "text/html": [
       "<div>\n",
       "<style scoped>\n",
       "    .dataframe tbody tr th:only-of-type {\n",
       "        vertical-align: middle;\n",
       "    }\n",
       "\n",
       "    .dataframe tbody tr th {\n",
       "        vertical-align: top;\n",
       "    }\n",
       "\n",
       "    .dataframe thead th {\n",
       "        text-align: right;\n",
       "    }\n",
       "</style>\n",
       "<table border=\"1\" class=\"dataframe\">\n",
       "  <thead>\n",
       "    <tr style=\"text-align: right;\">\n",
       "      <th></th>\n",
       "      <th>부서</th>\n",
       "      <th>입사일</th>\n",
       "    </tr>\n",
       "  </thead>\n",
       "  <tbody>\n",
       "    <tr>\n",
       "      <th>김철수</th>\n",
       "      <td>인사팀</td>\n",
       "      <td>2020.9</td>\n",
       "    </tr>\n",
       "    <tr>\n",
       "      <th>이영희</th>\n",
       "      <td>인사팀</td>\n",
       "      <td>2015.3</td>\n",
       "    </tr>\n",
       "  </tbody>\n",
       "</table>\n",
       "</div>"
      ],
      "text/plain": [
       "      부서     입사일\n",
       "김철수  인사팀  2020.9\n",
       "이영희  인사팀  2015.3"
      ]
     },
     "execution_count": 282,
     "metadata": {},
     "output_type": "execute_result"
    }
   ],
   "source": [
    "company.iloc[0:2, 0:]"
   ]
  },
  {
   "cell_type": "markdown",
   "id": "7da9b55f",
   "metadata": {},
   "source": [
    "> ## 연습 2-15"
   ]
  },
  {
   "cell_type": "code",
   "execution_count": 290,
   "id": "efd819b8",
   "metadata": {},
   "outputs": [
    {
     "data": {
      "text/html": [
       "<div>\n",
       "<style scoped>\n",
       "    .dataframe tbody tr th:only-of-type {\n",
       "        vertical-align: middle;\n",
       "    }\n",
       "\n",
       "    .dataframe tbody tr th {\n",
       "        vertical-align: top;\n",
       "    }\n",
       "\n",
       "    .dataframe thead th {\n",
       "        text-align: right;\n",
       "    }\n",
       "</style>\n",
       "<table border=\"1\" class=\"dataframe\">\n",
       "  <thead>\n",
       "    <tr style=\"text-align: right;\">\n",
       "      <th></th>\n",
       "      <th>입고량</th>\n",
       "      <th>재고량</th>\n",
       "    </tr>\n",
       "  </thead>\n",
       "  <tbody>\n",
       "    <tr>\n",
       "      <th>서울</th>\n",
       "      <td>25</td>\n",
       "      <td>25</td>\n",
       "    </tr>\n",
       "    <tr>\n",
       "      <th>대구</th>\n",
       "      <td>15</td>\n",
       "      <td>10</td>\n",
       "    </tr>\n",
       "    <tr>\n",
       "      <th>부산</th>\n",
       "      <td>35</td>\n",
       "      <td>28</td>\n",
       "    </tr>\n",
       "  </tbody>\n",
       "</table>\n",
       "</div>"
      ],
      "text/plain": [
       "    입고량  재고량\n",
       "서울   25   25\n",
       "대구   15   10\n",
       "부산   35   28"
      ]
     },
     "execution_count": 290,
     "metadata": {},
     "output_type": "execute_result"
    }
   ],
   "source": [
    "dict_data = {'입고량' : [15, 25, 35, 45, 65],\n",
    "            '판매량' : [5, 0, 7, 10, 50],\n",
    "            '재고량' : [10, 25, 28, 35, 15]}\n",
    "branch = ['대구', '서울', '부산', '대전', '인천']\n",
    "\n",
    "store = pd.DataFrame(dict_data, index = branch)\n",
    "\n",
    "store.iloc[[1, 0, 2], [0, 2]]"
   ]
  },
  {
   "cell_type": "markdown",
   "id": "f35c2aa6",
   "metadata": {},
   "source": [
    "> ## 연습 2-15-1"
   ]
  },
  {
   "cell_type": "code",
   "execution_count": 291,
   "id": "a28681b8",
   "metadata": {},
   "outputs": [
    {
     "ename": "NameError",
     "evalue": "name 'school' is not defined",
     "output_type": "error",
     "traceback": [
      "\u001b[1;31m---------------------------------------------------------------------------\u001b[0m",
      "\u001b[1;31mNameError\u001b[0m                                 Traceback (most recent call last)",
      "Cell \u001b[1;32mIn[291], line 1\u001b[0m\n\u001b[1;32m----> 1\u001b[0m school\n",
      "\u001b[1;31mNameError\u001b[0m: name 'school' is not defined"
     ]
    }
   ],
   "source": [
    "school"
   ]
  },
  {
   "cell_type": "code",
   "execution_count": 292,
   "id": "ec80eb0d",
   "metadata": {},
   "outputs": [],
   "source": [
    "data = {\n",
    "    '이름' : ['표치수', '김대만', '송태섭', '서태웅', '강백호', '변덕규', '황태산', '윤대협'],\n",
    "    '학교' : ['호산고', '호산고', '호산고', '호산고', '호산고', '성서고', '성서고', '성서고'],\n",
    "    '키' : [197, 184, 168, 187, 188, 202, 188, 190],\n",
    "    '국어' : [90, 40, 80, 40, 15, 80, 55, 100],\n",
    "    '영어' : [85, 35, 75, 60, 20, 100, 65, 85],\n",
    "    '수학' : [100, 50, 70, 70, 10, 95, 45, 90],\n",
    "    '과학' : [95, 55, 80, 75, 35, 85, 40, 95],\n",
    "    '사회' : [85, 25, 75, 80, 10, 80, 35, 95],\n",
    "    'SW특기' : ['Python', 'Java', 'Javascript', '', '', 'C', 'PYTHON', 'C#']\n",
    "}\n",
    "dict_df = pd.DataFrame(data)"
   ]
  },
  {
   "cell_type": "code",
   "execution_count": 295,
   "id": "3ba9652d",
   "metadata": {},
   "outputs": [
    {
     "data": {
      "text/html": [
       "<div>\n",
       "<style scoped>\n",
       "    .dataframe tbody tr th:only-of-type {\n",
       "        vertical-align: middle;\n",
       "    }\n",
       "\n",
       "    .dataframe tbody tr th {\n",
       "        vertical-align: top;\n",
       "    }\n",
       "\n",
       "    .dataframe thead th {\n",
       "        text-align: right;\n",
       "    }\n",
       "</style>\n",
       "<table border=\"1\" class=\"dataframe\">\n",
       "  <thead>\n",
       "    <tr style=\"text-align: right;\">\n",
       "      <th></th>\n",
       "      <th>이름</th>\n",
       "      <th>학교</th>\n",
       "      <th>키</th>\n",
       "      <th>국어</th>\n",
       "      <th>영어</th>\n",
       "      <th>수학</th>\n",
       "      <th>과학</th>\n",
       "      <th>사회</th>\n",
       "      <th>SW특기</th>\n",
       "    </tr>\n",
       "  </thead>\n",
       "  <tbody>\n",
       "    <tr>\n",
       "      <th>1번</th>\n",
       "      <td>표치수</td>\n",
       "      <td>호산고</td>\n",
       "      <td>197</td>\n",
       "      <td>90</td>\n",
       "      <td>85</td>\n",
       "      <td>100</td>\n",
       "      <td>95</td>\n",
       "      <td>85</td>\n",
       "      <td>Python</td>\n",
       "    </tr>\n",
       "    <tr>\n",
       "      <th>2번</th>\n",
       "      <td>김대만</td>\n",
       "      <td>호산고</td>\n",
       "      <td>184</td>\n",
       "      <td>40</td>\n",
       "      <td>35</td>\n",
       "      <td>50</td>\n",
       "      <td>55</td>\n",
       "      <td>25</td>\n",
       "      <td>Java</td>\n",
       "    </tr>\n",
       "    <tr>\n",
       "      <th>3번</th>\n",
       "      <td>송태섭</td>\n",
       "      <td>호산고</td>\n",
       "      <td>168</td>\n",
       "      <td>80</td>\n",
       "      <td>75</td>\n",
       "      <td>70</td>\n",
       "      <td>80</td>\n",
       "      <td>75</td>\n",
       "      <td>Javascript</td>\n",
       "    </tr>\n",
       "    <tr>\n",
       "      <th>4번</th>\n",
       "      <td>서태웅</td>\n",
       "      <td>호산고</td>\n",
       "      <td>187</td>\n",
       "      <td>40</td>\n",
       "      <td>60</td>\n",
       "      <td>70</td>\n",
       "      <td>75</td>\n",
       "      <td>80</td>\n",
       "      <td></td>\n",
       "    </tr>\n",
       "    <tr>\n",
       "      <th>5번</th>\n",
       "      <td>강백호</td>\n",
       "      <td>호산고</td>\n",
       "      <td>188</td>\n",
       "      <td>15</td>\n",
       "      <td>20</td>\n",
       "      <td>10</td>\n",
       "      <td>35</td>\n",
       "      <td>10</td>\n",
       "      <td></td>\n",
       "    </tr>\n",
       "    <tr>\n",
       "      <th>6번</th>\n",
       "      <td>변덕규</td>\n",
       "      <td>성서고</td>\n",
       "      <td>202</td>\n",
       "      <td>80</td>\n",
       "      <td>100</td>\n",
       "      <td>95</td>\n",
       "      <td>85</td>\n",
       "      <td>80</td>\n",
       "      <td>C</td>\n",
       "    </tr>\n",
       "    <tr>\n",
       "      <th>7번</th>\n",
       "      <td>황태산</td>\n",
       "      <td>성서고</td>\n",
       "      <td>188</td>\n",
       "      <td>55</td>\n",
       "      <td>65</td>\n",
       "      <td>45</td>\n",
       "      <td>40</td>\n",
       "      <td>35</td>\n",
       "      <td>PYTHON</td>\n",
       "    </tr>\n",
       "    <tr>\n",
       "      <th>8번</th>\n",
       "      <td>윤대협</td>\n",
       "      <td>성서고</td>\n",
       "      <td>190</td>\n",
       "      <td>100</td>\n",
       "      <td>85</td>\n",
       "      <td>90</td>\n",
       "      <td>95</td>\n",
       "      <td>95</td>\n",
       "      <td>C#</td>\n",
       "    </tr>\n",
       "  </tbody>\n",
       "</table>\n",
       "</div>"
      ],
      "text/plain": [
       "     이름   학교    키   국어   영어   수학  과학  사회        SW특기\n",
       "1번  표치수  호산고  197   90   85  100  95  85      Python\n",
       "2번  김대만  호산고  184   40   35   50  55  25        Java\n",
       "3번  송태섭  호산고  168   80   75   70  80  75  Javascript\n",
       "4번  서태웅  호산고  187   40   60   70  75  80            \n",
       "5번  강백호  호산고  188   15   20   10  35  10            \n",
       "6번  변덕규  성서고  202   80  100   95  85  80           C\n",
       "7번  황태산  성서고  188   55   65   45  40  35      PYTHON\n",
       "8번  윤대협  성서고  190  100   85   90  95  95          C#"
      ]
     },
     "execution_count": 295,
     "metadata": {},
     "output_type": "execute_result"
    }
   ],
   "source": [
    "idx = ['1번','2번','3번','4번','5번','6번','7번','8번']\n",
    "dict_df.index = idx\n",
    "dict_df"
   ]
  },
  {
   "cell_type": "code",
   "execution_count": 296,
   "id": "32db00a7",
   "metadata": {},
   "outputs": [
    {
     "data": {
      "text/html": [
       "<div>\n",
       "<style scoped>\n",
       "    .dataframe tbody tr th:only-of-type {\n",
       "        vertical-align: middle;\n",
       "    }\n",
       "\n",
       "    .dataframe tbody tr th {\n",
       "        vertical-align: top;\n",
       "    }\n",
       "\n",
       "    .dataframe thead th {\n",
       "        text-align: right;\n",
       "    }\n",
       "</style>\n",
       "<table border=\"1\" class=\"dataframe\">\n",
       "  <thead>\n",
       "    <tr style=\"text-align: right;\">\n",
       "      <th></th>\n",
       "      <th>이름</th>\n",
       "      <th>학교</th>\n",
       "      <th>키</th>\n",
       "      <th>국어</th>\n",
       "      <th>영어</th>\n",
       "      <th>수학</th>\n",
       "      <th>과학</th>\n",
       "      <th>사회</th>\n",
       "      <th>SW특기</th>\n",
       "    </tr>\n",
       "  </thead>\n",
       "  <tbody>\n",
       "    <tr>\n",
       "      <th>1번</th>\n",
       "      <td>표치수</td>\n",
       "      <td>호산고</td>\n",
       "      <td>197</td>\n",
       "      <td>90</td>\n",
       "      <td>85</td>\n",
       "      <td>100</td>\n",
       "      <td>95</td>\n",
       "      <td>85</td>\n",
       "      <td>Python</td>\n",
       "    </tr>\n",
       "    <tr>\n",
       "      <th>2번</th>\n",
       "      <td>김대만</td>\n",
       "      <td>호산고</td>\n",
       "      <td>184</td>\n",
       "      <td>40</td>\n",
       "      <td>35</td>\n",
       "      <td>50</td>\n",
       "      <td>55</td>\n",
       "      <td>25</td>\n",
       "      <td>Java</td>\n",
       "    </tr>\n",
       "    <tr>\n",
       "      <th>3번</th>\n",
       "      <td>송태섭</td>\n",
       "      <td>호산고</td>\n",
       "      <td>168</td>\n",
       "      <td>80</td>\n",
       "      <td>75</td>\n",
       "      <td>70</td>\n",
       "      <td>80</td>\n",
       "      <td>75</td>\n",
       "      <td>Javascript</td>\n",
       "    </tr>\n",
       "    <tr>\n",
       "      <th>4번</th>\n",
       "      <td>서태웅</td>\n",
       "      <td>호산고</td>\n",
       "      <td>187</td>\n",
       "      <td>40</td>\n",
       "      <td>60</td>\n",
       "      <td>70</td>\n",
       "      <td>75</td>\n",
       "      <td>80</td>\n",
       "      <td></td>\n",
       "    </tr>\n",
       "    <tr>\n",
       "      <th>5번</th>\n",
       "      <td>강백호</td>\n",
       "      <td>호산고</td>\n",
       "      <td>188</td>\n",
       "      <td>15</td>\n",
       "      <td>20</td>\n",
       "      <td>10</td>\n",
       "      <td>35</td>\n",
       "      <td>10</td>\n",
       "      <td></td>\n",
       "    </tr>\n",
       "    <tr>\n",
       "      <th>6번</th>\n",
       "      <td>변덕규</td>\n",
       "      <td>성서고</td>\n",
       "      <td>202</td>\n",
       "      <td>80</td>\n",
       "      <td>100</td>\n",
       "      <td>95</td>\n",
       "      <td>85</td>\n",
       "      <td>80</td>\n",
       "      <td>C</td>\n",
       "    </tr>\n",
       "    <tr>\n",
       "      <th>7번</th>\n",
       "      <td>황태산</td>\n",
       "      <td>성서고</td>\n",
       "      <td>188</td>\n",
       "      <td>55</td>\n",
       "      <td>65</td>\n",
       "      <td>45</td>\n",
       "      <td>40</td>\n",
       "      <td>35</td>\n",
       "      <td>PYTHON</td>\n",
       "    </tr>\n",
       "    <tr>\n",
       "      <th>8번</th>\n",
       "      <td>윤대협</td>\n",
       "      <td>성서고</td>\n",
       "      <td>190</td>\n",
       "      <td>100</td>\n",
       "      <td>85</td>\n",
       "      <td>90</td>\n",
       "      <td>95</td>\n",
       "      <td>95</td>\n",
       "      <td>C#</td>\n",
       "    </tr>\n",
       "  </tbody>\n",
       "</table>\n",
       "</div>"
      ],
      "text/plain": [
       "     이름   학교    키   국어   영어   수학  과학  사회        SW특기\n",
       "1번  표치수  호산고  197   90   85  100  95  85      Python\n",
       "2번  김대만  호산고  184   40   35   50  55  25        Java\n",
       "3번  송태섭  호산고  168   80   75   70  80  75  Javascript\n",
       "4번  서태웅  호산고  187   40   60   70  75  80            \n",
       "5번  강백호  호산고  188   15   20   10  35  10            \n",
       "6번  변덕규  성서고  202   80  100   95  85  80           C\n",
       "7번  황태산  성서고  188   55   65   45  40  35      PYTHON\n",
       "8번  윤대협  성서고  190  100   85   90  95  95          C#"
      ]
     },
     "execution_count": 296,
     "metadata": {},
     "output_type": "execute_result"
    }
   ],
   "source": [
    "dict_df"
   ]
  },
  {
   "cell_type": "code",
   "execution_count": 298,
   "id": "ac74a676",
   "metadata": {},
   "outputs": [
    {
     "data": {
      "text/plain": [
       "85"
      ]
     },
     "execution_count": 298,
     "metadata": {},
     "output_type": "execute_result"
    }
   ],
   "source": [
    "dict_df.iloc[0, 4]"
   ]
  },
  {
   "cell_type": "code",
   "execution_count": 300,
   "id": "112805a7",
   "metadata": {},
   "outputs": [
    {
     "data": {
      "text/html": [
       "<div>\n",
       "<style scoped>\n",
       "    .dataframe tbody tr th:only-of-type {\n",
       "        vertical-align: middle;\n",
       "    }\n",
       "\n",
       "    .dataframe tbody tr th {\n",
       "        vertical-align: top;\n",
       "    }\n",
       "\n",
       "    .dataframe thead th {\n",
       "        text-align: right;\n",
       "    }\n",
       "</style>\n",
       "<table border=\"1\" class=\"dataframe\">\n",
       "  <thead>\n",
       "    <tr style=\"text-align: right;\">\n",
       "      <th></th>\n",
       "      <th>국어</th>\n",
       "    </tr>\n",
       "  </thead>\n",
       "  <tbody>\n",
       "    <tr>\n",
       "      <th>1번</th>\n",
       "      <td>90</td>\n",
       "    </tr>\n",
       "    <tr>\n",
       "      <th>2번</th>\n",
       "      <td>40</td>\n",
       "    </tr>\n",
       "  </tbody>\n",
       "</table>\n",
       "</div>"
      ],
      "text/plain": [
       "    국어\n",
       "1번  90\n",
       "2번  40"
      ]
     },
     "execution_count": 300,
     "metadata": {},
     "output_type": "execute_result"
    }
   ],
   "source": [
    "dict_df.iloc[[0, 1], [3]]"
   ]
  },
  {
   "cell_type": "code",
   "execution_count": 301,
   "id": "9cd7807b",
   "metadata": {},
   "outputs": [
    {
     "data": {
      "text/html": [
       "<div>\n",
       "<style scoped>\n",
       "    .dataframe tbody tr th:only-of-type {\n",
       "        vertical-align: middle;\n",
       "    }\n",
       "\n",
       "    .dataframe tbody tr th {\n",
       "        vertical-align: top;\n",
       "    }\n",
       "\n",
       "    .dataframe thead th {\n",
       "        text-align: right;\n",
       "    }\n",
       "</style>\n",
       "<table border=\"1\" class=\"dataframe\">\n",
       "  <thead>\n",
       "    <tr style=\"text-align: right;\">\n",
       "      <th></th>\n",
       "      <th>국어</th>\n",
       "      <th>수학</th>\n",
       "    </tr>\n",
       "  </thead>\n",
       "  <tbody>\n",
       "    <tr>\n",
       "      <th>1번</th>\n",
       "      <td>90</td>\n",
       "      <td>100</td>\n",
       "    </tr>\n",
       "    <tr>\n",
       "      <th>2번</th>\n",
       "      <td>40</td>\n",
       "      <td>50</td>\n",
       "    </tr>\n",
       "  </tbody>\n",
       "</table>\n",
       "</div>"
      ],
      "text/plain": [
       "    국어   수학\n",
       "1번  90  100\n",
       "2번  40   50"
      ]
     },
     "execution_count": 301,
     "metadata": {},
     "output_type": "execute_result"
    }
   ],
   "source": [
    "dict_df.iloc[[0, 1], [3, 5]]"
   ]
  },
  {
   "cell_type": "code",
   "execution_count": 303,
   "id": "b6385bb1",
   "metadata": {},
   "outputs": [
    {
     "data": {
      "text/html": [
       "<div>\n",
       "<style scoped>\n",
       "    .dataframe tbody tr th:only-of-type {\n",
       "        vertical-align: middle;\n",
       "    }\n",
       "\n",
       "    .dataframe tbody tr th {\n",
       "        vertical-align: top;\n",
       "    }\n",
       "\n",
       "    .dataframe thead th {\n",
       "        text-align: right;\n",
       "    }\n",
       "</style>\n",
       "<table border=\"1\" class=\"dataframe\">\n",
       "  <thead>\n",
       "    <tr style=\"text-align: right;\">\n",
       "      <th></th>\n",
       "      <th>국어</th>\n",
       "      <th>영어</th>\n",
       "      <th>수학</th>\n",
       "      <th>과학</th>\n",
       "      <th>사회</th>\n",
       "    </tr>\n",
       "  </thead>\n",
       "  <tbody>\n",
       "    <tr>\n",
       "      <th>1번</th>\n",
       "      <td>90</td>\n",
       "      <td>85</td>\n",
       "      <td>100</td>\n",
       "      <td>95</td>\n",
       "      <td>85</td>\n",
       "    </tr>\n",
       "    <tr>\n",
       "      <th>2번</th>\n",
       "      <td>40</td>\n",
       "      <td>35</td>\n",
       "      <td>50</td>\n",
       "      <td>55</td>\n",
       "      <td>25</td>\n",
       "    </tr>\n",
       "    <tr>\n",
       "      <th>3번</th>\n",
       "      <td>80</td>\n",
       "      <td>75</td>\n",
       "      <td>70</td>\n",
       "      <td>80</td>\n",
       "      <td>75</td>\n",
       "    </tr>\n",
       "    <tr>\n",
       "      <th>4번</th>\n",
       "      <td>40</td>\n",
       "      <td>60</td>\n",
       "      <td>70</td>\n",
       "      <td>75</td>\n",
       "      <td>80</td>\n",
       "    </tr>\n",
       "    <tr>\n",
       "      <th>5번</th>\n",
       "      <td>15</td>\n",
       "      <td>20</td>\n",
       "      <td>10</td>\n",
       "      <td>35</td>\n",
       "      <td>10</td>\n",
       "    </tr>\n",
       "  </tbody>\n",
       "</table>\n",
       "</div>"
      ],
      "text/plain": [
       "    국어  영어   수학  과학  사회\n",
       "1번  90  85  100  95  85\n",
       "2번  40  35   50  55  25\n",
       "3번  80  75   70  80  75\n",
       "4번  40  60   70  75  80\n",
       "5번  15  20   10  35  10"
      ]
     },
     "execution_count": 303,
     "metadata": {},
     "output_type": "execute_result"
    }
   ],
   "source": [
    "dict_df.iloc[0:5, 3:8]"
   ]
  }
 ],
 "metadata": {
  "kernelspec": {
   "display_name": "Python 3 (ipykernel)",
   "language": "python",
   "name": "python3"
  },
  "language_info": {
   "codemirror_mode": {
    "name": "ipython",
    "version": 3
   },
   "file_extension": ".py",
   "mimetype": "text/x-python",
   "name": "python",
   "nbconvert_exporter": "python",
   "pygments_lexer": "ipython3",
   "version": "3.11.4"
  }
 },
 "nbformat": 4,
 "nbformat_minor": 5
}
